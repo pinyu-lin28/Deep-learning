{
 "cells": [
  {
   "cell_type": "markdown",
   "metadata": {
    "id": "86CvAQ3yMIZk"
   },
   "source": [
    "# Just an example.You can alter sample code anywhere."
   ]
  },
  {
   "cell_type": "markdown",
   "metadata": {
    "id": "E78T_6PFWpjL"
   },
   "source": [
    "## Mount your google drive"
   ]
  },
  {
   "cell_type": "code",
   "metadata": {
    "id": "sx47B97qMNwv",
    "ExecuteTime": {
     "end_time": "2025-09-21T07:18:34.264747Z",
     "start_time": "2025-09-21T07:18:34.261316Z"
    }
   },
   "source": [
    "#from google.colab import drive\n",
    "#drive.mount('/content/drive')"
   ],
   "outputs": [],
   "execution_count": 50
  },
  {
   "cell_type": "code",
   "metadata": {
    "id": "erMgvx83MUrm",
    "ExecuteTime": {
     "end_time": "2025-09-21T07:18:34.273441Z",
     "start_time": "2025-09-21T07:18:34.271674Z"
    }
   },
   "source": [
    "# You need to modify this part to the directory where your code is located\n",
    "#%cd \"/content/drive/MyDrive/DL_Lab1/\""
   ],
   "outputs": [],
   "execution_count": 51
  },
  {
   "cell_type": "markdown",
   "metadata": {
    "id": "fHJbvA_B47t9"
   },
   "source": [
    "## Import packages"
   ]
  },
  {
   "cell_type": "code",
   "metadata": {
    "id": "fv1K7EfGMIZm",
    "scrolled": true,
    "ExecuteTime": {
     "end_time": "2025-09-21T07:18:34.278838Z",
     "start_time": "2025-09-21T07:18:34.276951Z"
    }
   },
   "source": [
    "import numpy as np\n",
    "import matplotlib.pyplot as plt\n",
    "import torch\n",
    "import torch.optim as optim\n",
    "import time"
   ],
   "outputs": [],
   "execution_count": 52
  },
  {
   "cell_type": "code",
   "metadata": {
    "id": "qr3ieyG9MIZn",
    "ExecuteTime": {
     "end_time": "2025-09-21T07:18:34.286102Z",
     "start_time": "2025-09-21T07:18:34.282527Z"
    }
   },
   "source": [
    "#Fix the random seed\n",
    "np.random.seed(0)\n",
    "torch.manual_seed(0)"
   ],
   "outputs": [
    {
     "data": {
      "text/plain": [
       "<torch._C.Generator at 0x1070e1e10>"
      ]
     },
     "execution_count": 53,
     "metadata": {},
     "output_type": "execute_result"
    }
   ],
   "execution_count": 53
  },
  {
   "cell_type": "markdown",
   "metadata": {
    "id": "huwyyDbJMIZn"
   },
   "source": [
    "## Load the data and label"
   ]
  },
  {
   "cell_type": "code",
   "metadata": {
    "id": "aahu3NcTMIZn",
    "ExecuteTime": {
     "end_time": "2025-09-21T07:18:34.799142Z",
     "start_time": "2025-09-21T07:18:34.290703Z"
    }
   },
   "source": [
    "train_load = np.loadtxt('./data/fmnist-train.csv',delimiter=',',dtype=\"int\")\n",
    "train_data=train_load[:,1:]\n",
    "train_label=train_load[:,0]\n",
    "print(\"shape of train_data: {}\".format(train_data.shape))\n",
    "print(\"shape of train_label: {}\".format(train_label.shape))"
   ],
   "outputs": [
    {
     "name": "stdout",
     "output_type": "stream",
     "text": [
      "shape of train_data: (60000, 784)\n",
      "shape of train_label: (60000,)\n"
     ]
    }
   ],
   "execution_count": 54
  },
  {
   "cell_type": "markdown",
   "metadata": {
    "id": "RaauK7iDMIZo"
   },
   "source": [
    "## Show the training data"
   ]
  },
  {
   "cell_type": "code",
   "metadata": {
    "id": "4ljhOuNKMIZo",
    "scrolled": true,
    "ExecuteTime": {
     "end_time": "2025-09-21T07:18:34.806460Z",
     "start_time": "2025-09-21T07:18:34.805134Z"
    }
   },
   "source": [
    "# uncomment if you want to show the training data\n",
    "#plt.figure(figsize=(20, 20))\n",
    "#for index in range(10):\n",
    "#    image = train_data[index+20000].reshape(28,28)\n",
    "#    plt.subplot(2, 5, index+1)\n",
    "#    plt.imshow(image)\n",
    "#plt.show()"
   ],
   "outputs": [],
   "execution_count": 55
  },
  {
   "cell_type": "code",
   "metadata": {
    "id": "ll-Mmg5uMIZo",
    "ExecuteTime": {
     "end_time": "2025-09-21T07:18:34.867563Z",
     "start_time": "2025-09-21T07:18:34.809285Z"
    }
   },
   "source": [
    "train_image_num = train_data.shape[0]\n",
    "train_data = train_data.astype('float32')\n",
    "\n",
    "print(\"train_image_num  is : {}\".format(train_image_num))"
   ],
   "outputs": [
    {
     "name": "stdout",
     "output_type": "stream",
     "text": [
      "train_image_num  is : 60000\n"
     ]
    }
   ],
   "execution_count": 56
  },
  {
   "cell_type": "markdown",
   "metadata": {
    "id": "wZcuiUhgnlPg"
   },
   "source": [
    "## Change numpy array to pytorch tensor"
   ]
  },
  {
   "cell_type": "code",
   "metadata": {
    "id": "l65tjhk9njR8",
    "ExecuteTime": {
     "end_time": "2025-09-21T07:18:34.872013Z",
     "start_time": "2025-09-21T07:18:34.870463Z"
    }
   },
   "source": [
    "train_data_tensor = torch.from_numpy(train_data)\n",
    "train_label_tensor = torch.from_numpy(train_label)"
   ],
   "outputs": [],
   "execution_count": 57
  },
  {
   "cell_type": "markdown",
   "metadata": {
    "id": "Lba_hUSCid9_"
   },
   "source": [
    "## Validation image number"
   ]
  },
  {
   "cell_type": "code",
   "metadata": {
    "id": "ft6nsKeqMIZo",
    "ExecuteTime": {
     "end_time": "2025-09-21T07:18:34.878114Z",
     "start_time": "2025-09-21T07:18:34.876540Z"
    }
   },
   "source": [
    "val_image_num=10000"
   ],
   "outputs": [],
   "execution_count": 58
  },
  {
   "cell_type": "markdown",
   "metadata": {
    "id": "9fB4gFsigckg"
   },
   "source": [
    "## Convert labels to one hot vector\n"
   ]
  },
  {
   "cell_type": "code",
   "metadata": {
    "id": "TlfYBY48gld_",
    "ExecuteTime": {
     "end_time": "2025-09-21T07:18:34.902308Z",
     "start_time": "2025-09-21T07:18:34.883063Z"
    }
   },
   "source": [
    "label_temp = np.zeros((train_image_num, 10), dtype = np.float32)\n",
    "for i in range(train_image_num):\n",
    "    label_temp[i][train_label[i]] = 1\n",
    "train_label_onehot = np.copy(label_temp)\n",
    "train_label_onehot_tensor = torch.from_numpy(train_label_onehot)\n",
    "print(\"One-hot training labels shape:\",train_label_onehot.shape)\n"
   ],
   "outputs": [
    {
     "name": "stdout",
     "output_type": "stream",
     "text": [
      "One-hot training labels shape: (60000, 10)\n"
     ]
    }
   ],
   "execution_count": 59
  },
  {
   "cell_type": "markdown",
   "metadata": {
    "id": "WgDMf7cUMIZp"
   },
   "source": [
    "## Hyperparameters"
   ]
  },
  {
   "cell_type": "code",
   "metadata": {
    "id": "WDROhN4WMIZp",
    "ExecuteTime": {
     "end_time": "2025-09-21T07:18:34.914834Z",
     "start_time": "2025-09-21T07:18:34.913192Z"
    }
   },
   "source": [
    "EPOCH = 20\n",
    "Batch_size = 10000# 10000 should be divisible by batch_size\n",
    "Learning_rate = 0.001"
   ],
   "outputs": [],
   "execution_count": 60
  },
  {
   "cell_type": "markdown",
   "metadata": {
    "id": "4EGZqeH-ULJK"
   },
   "source": [
    "## Define the models with pytorch"
   ]
  },
  {
   "cell_type": "code",
   "metadata": {
    "id": "HRxsNpDkUKv-",
    "ExecuteTime": {
     "end_time": "2025-09-21T07:18:34.923445Z",
     "start_time": "2025-09-21T07:18:34.919017Z"
    }
   },
   "source": [
    "in_channels = 1\n",
    "conv_out_channels = 8\n",
    "kernel_size = 3\n",
    "num_classes = 10\n",
    "fc_hidden_size = 128\n",
    "\n",
    "import torch.nn as nn\n",
    "import torch.nn.functional as F\n",
    "\n",
    "\n",
    "class Net(nn.Module):\n",
    "    def __init__(self):\n",
    "        super().__init__()\n",
    "\n",
    "        # Define the network layers\n",
    "        self.features = nn.Sequential(\n",
    "            nn.Conv2d(in_channels=in_channels,\n",
    "                      out_channels=conv_out_channels,\n",
    "                      kernel_size=kernel_size,\n",
    "                      stride=1,\n",
    "                      padding=1),\n",
    "            nn.ReLU(),\n",
    "            nn.Flatten()\n",
    "        )\n",
    "\n",
    "        conv_output_height = (28 + 2 * 1 - kernel_size) // 1 + 1\n",
    "        conv_output_width = (28 + 2 * 1 - kernel_size) // 1 + 1\n",
    "        flattened_size = conv_out_channels * conv_output_height * conv_output_width\n",
    "\n",
    "        self.classifier = nn.Sequential(\n",
    "            nn.Linear(flattened_size, fc_hidden_size),\n",
    "            nn.ReLU(),\n",
    "            nn.Linear(fc_hidden_size, num_classes)\n",
    "        )\n",
    "\n",
    "    def forward(self, x):\n",
    "        # The input x has shape (batch_size, 784)\n",
    "        x = x.view(-1, in_channels, 28, 28)\n",
    "        x = self.features(x)\n",
    "        x = self.classifier(x)\n",
    "        return x\n",
    "\n",
    "net = Net()"
   ],
   "outputs": [],
   "execution_count": 61
  },
  {
   "cell_type": "markdown",
   "metadata": {
    "id": "0OzokU54UVWM"
   },
   "source": [
    "## Criterion and Optimizer"
   ]
  },
  {
   "cell_type": "code",
   "metadata": {
    "id": "5FggKYxKUUvK",
    "ExecuteTime": {
     "end_time": "2025-09-21T07:18:34.927154Z",
     "start_time": "2025-09-21T07:18:34.925179Z"
    }
   },
   "source": [
    "import torch.optim as optim\n",
    "\n",
    "criterion = nn.CrossEntropyLoss()\n",
    "optimizer = optim.Adam(net.parameters(), lr=Learning_rate)"
   ],
   "outputs": [],
   "execution_count": 62
  },
  {
   "cell_type": "markdown",
   "metadata": {
    "id": "j9Eii_nPMIZp"
   },
   "source": [
    "## Training"
   ]
  },
  {
   "cell_type": "code",
   "metadata": {
    "id": "irPDy1pZWMsz",
    "ExecuteTime": {
     "end_time": "2025-09-21T07:19:09.282350Z",
     "start_time": "2025-09-21T07:18:34.929926Z"
    }
   },
   "source": [
    "import time\n",
    "train_batch_num = (train_image_num - val_image_num )//Batch_size\n",
    "val_batch_num = (val_image_num)//Batch_size\n",
    "\n",
    "for epoch in range(1, EPOCH+1):\n",
    "    train_hit = 0\n",
    "    val_hit = 0\n",
    "    total_train_loss = 0.0\n",
    "    total_val_loss = 0.0\n",
    "    start_time = time.time()\n",
    "\n",
    "    # Shuffle the training data at the beginning of each epoch\n",
    "    perm = torch.randperm(train_data_tensor.size(0))\n",
    "    train_data_shuffled = train_data_tensor[perm]\n",
    "    train_label_shuffled = train_label_tensor[perm]\n",
    "    train_label_onehot_shuffled = train_label_onehot_tensor[perm]\n",
    "\n",
    "    for it in range(train_batch_num):\n",
    "        inputs = train_data_shuffled[it*Batch_size:(it+1)*Batch_size]\n",
    "        labels = train_label_shuffled[it*Batch_size:(it+1)*Batch_size]\n",
    "\n",
    "        optimizer.zero_grad()\n",
    "        outputs = net(inputs)\n",
    "\n",
    "        _, pred_index = torch.max(outputs, 1)\n",
    "        train_hit += (pred_index == labels).sum().item()\n",
    "        loss = criterion(outputs, labels)\n",
    "        loss.backward()\n",
    "        optimizer.step()\n",
    "        total_train_loss += loss.item()\n",
    "\n",
    "    net.eval()\n",
    "    with torch.no_grad():\n",
    "        for titt in range(val_batch_num):\n",
    "            tit=train_batch_num+titt\n",
    "            inputs = train_data_tensor[tit*Batch_size:(tit+1)*Batch_size]\n",
    "            labels = train_label_tensor[tit*Batch_size:(tit+1)*Batch_size]\n",
    "\n",
    "            outputs = net(inputs)\n",
    "            loss = criterion(outputs, labels)\n",
    "\n",
    "            total_val_loss += loss.item()\n",
    "            _, predicted = torch.max(outputs, 1)\n",
    "            val_hit += (predicted == labels).sum().item()\n",
    "    end_time = time.time()\n",
    "    epoch_time = end_time - start_time\n",
    "    print('Task-2  | Epoch:%3d'%epoch, ' |Train Loss:%8.4f'%(total_train_loss/train_batch_num), ' |Train Acc:%3.4f'%(train_hit/(train_image_num-val_image_num)*100.0)\n",
    "          , ' |Val Loss:%8.4f'%(total_val_loss/val_batch_num), ' |Val Acc:%3.4f'%(val_hit/val_image_num*100.0), ' |Epoch time:%5.2f'%(epoch_time),' sec')"
   ],
   "outputs": [
    {
     "name": "stdout",
     "output_type": "stream",
     "text": [
      "Task-2  | Epoch:  1  |Train Loss: 71.9641  |Train Acc:22.0380  |Val Loss: 51.7723  |Val Acc:37.8500  |Epoch time: 1.76  sec\n",
      "Task-2  | Epoch:  2  |Train Loss: 33.1804  |Train Acc:42.9140  |Val Loss: 14.2820  |Val Acc:48.1300  |Epoch time: 1.79  sec\n",
      "Task-2  | Epoch:  3  |Train Loss:  7.6198  |Train Acc:55.4320  |Val Loss:  4.3894  |Val Acc:60.6700  |Epoch time: 1.76  sec\n",
      "Task-2  | Epoch:  4  |Train Loss:  3.6268  |Train Acc:58.4960  |Val Loss:  2.3680  |Val Acc:64.5000  |Epoch time: 1.75  sec\n",
      "Task-2  | Epoch:  5  |Train Loss:  2.3144  |Train Acc:66.2980  |Val Loss:  1.9523  |Val Acc:69.0500  |Epoch time: 1.74  sec\n",
      "Task-2  | Epoch:  6  |Train Loss:  1.8201  |Train Acc:70.8440  |Val Loss:  1.5283  |Val Acc:70.1100  |Epoch time: 1.73  sec\n",
      "Task-2  | Epoch:  7  |Train Loss:  1.4988  |Train Acc:68.2900  |Val Loss:  1.1420  |Val Acc:74.8700  |Epoch time: 1.70  sec\n",
      "Task-2  | Epoch:  8  |Train Loss:  1.1426  |Train Acc:75.5540  |Val Loss:  1.0774  |Val Acc:76.1600  |Epoch time: 1.71  sec\n",
      "Task-2  | Epoch:  9  |Train Loss:  1.0137  |Train Acc:75.8880  |Val Loss:  0.9137  |Val Acc:77.0100  |Epoch time: 1.71  sec\n",
      "Task-2  | Epoch: 10  |Train Loss:  0.8820  |Train Acc:77.3620  |Val Loss:  0.8185  |Val Acc:78.4200  |Epoch time: 1.70  sec\n",
      "Task-2  | Epoch: 11  |Train Loss:  0.7922  |Train Acc:78.1300  |Val Loss:  0.7315  |Val Acc:78.4800  |Epoch time: 1.70  sec\n",
      "Task-2  | Epoch: 12  |Train Loss:  0.7246  |Train Acc:78.4500  |Val Loss:  0.6956  |Val Acc:79.8800  |Epoch time: 1.70  sec\n",
      "Task-2  | Epoch: 13  |Train Loss:  0.6733  |Train Acc:79.6500  |Val Loss:  0.6370  |Val Acc:81.1600  |Epoch time: 1.70  sec\n",
      "Task-2  | Epoch: 14  |Train Loss:  0.6301  |Train Acc:80.8400  |Val Loss:  0.6052  |Val Acc:81.7800  |Epoch time: 1.70  sec\n",
      "Task-2  | Epoch: 15  |Train Loss:  0.5946  |Train Acc:81.3720  |Val Loss:  0.5801  |Val Acc:82.2000  |Epoch time: 1.70  sec\n",
      "Task-2  | Epoch: 16  |Train Loss:  0.5706  |Train Acc:82.0920  |Val Loss:  0.5542  |Val Acc:82.6600  |Epoch time: 1.70  sec\n",
      "Task-2  | Epoch: 17  |Train Loss:  0.5461  |Train Acc:82.4220  |Val Loss:  0.5352  |Val Acc:82.7900  |Epoch time: 1.70  sec\n",
      "Task-2  | Epoch: 18  |Train Loss:  0.5279  |Train Acc:82.6980  |Val Loss:  0.5167  |Val Acc:83.0400  |Epoch time: 1.70  sec\n",
      "Task-2  | Epoch: 19  |Train Loss:  0.5054  |Train Acc:83.2780  |Val Loss:  0.5020  |Val Acc:83.3800  |Epoch time: 1.70  sec\n",
      "Task-2  | Epoch: 20  |Train Loss:  0.4992  |Train Acc:83.3740  |Val Loss:  0.4872  |Val Acc:83.7000  |Epoch time: 1.70  sec\n"
     ]
    }
   ],
   "execution_count": 63
  }
 ],
 "metadata": {
  "colab": {
   "provenance": []
  },
  "kernelspec": {
   "display_name": "Python 3 (ipykernel)",
   "language": "python",
   "name": "python3"
  },
  "language_info": {
   "codemirror_mode": {
    "name": "ipython",
    "version": 3
   },
   "file_extension": ".py",
   "mimetype": "text/x-python",
   "name": "python",
   "nbconvert_exporter": "python",
   "pygments_lexer": "ipython3",
   "version": "3.8.10"
  }
 },
 "nbformat": 4,
 "nbformat_minor": 4
}
